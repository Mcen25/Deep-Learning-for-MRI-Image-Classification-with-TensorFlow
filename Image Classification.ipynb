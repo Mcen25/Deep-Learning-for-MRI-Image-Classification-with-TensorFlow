{
 "cells": [
  {
   "cell_type": "code",
   "execution_count": 1,
   "metadata": {},
   "outputs": [
    {
     "name": "stdout",
     "output_type": "stream",
     "text": [
      "2.10.1\n",
      "Num GPUs Available:  1\n"
     ]
    }
   ],
   "source": [
    "import os\n",
    "os.environ['TF_CPP_MIN_LOG_LEVEL'] = '2'\n",
    "\n",
    "import tensorflow as tf\n",
    "from tensorflow import keras\n",
    "from tensorflow.keras import models, layers\n",
    "from tensorflow.keras.models import Sequential\n",
    "from tensorflow.keras import layers, models, optimizers, losses\n",
    "from tensorflow.keras.preprocessing.image import ImageDataGenerator\n",
    "from tensorflow.keras import regularizers\n",
    "\n",
    "print(tf.__version__)\n",
    "print(\"Num GPUs Available: \", len(tf.config.list_physical_devices('GPU')))\n",
    "\n",
    "import matplotlib.pyplot as plt\n",
    "import numpy as np\n",
    "import pandas as pd"
   ]
  },
  {
   "cell_type": "markdown",
   "metadata": {},
   "source": [
    "Data Preprocessing "
   ]
  },
  {
   "cell_type": "code",
   "execution_count": 2,
   "metadata": {},
   "outputs": [
    {
     "name": "stdout",
     "output_type": "stream",
     "text": [
      "Found 5712 files belonging to 4 classes.\n",
      "Found 1311 files belonging to 4 classes.\n",
      "Found 4571 images belonging to 4 classes.\n",
      "Found 1141 images belonging to 4 classes.\n",
      "Found 1311 images belonging to 4 classes.\n"
     ]
    }
   ],
   "source": [
    "training_data = \"data/Training\"\n",
    "testing_data = \"data/Testing\"\n",
    "\n",
    "class_names = ['glioma', 'meningioma', 'no_tumor', 'pituitary']\n",
    "\n",
    "# Data preprocessing\n",
    "train_dataset = tf.keras.preprocessing.image_dataset_from_directory(\n",
    "    training_data,\n",
    "    image_size=(256, 256),\n",
    "    batch_size=64,\n",
    ")\n",
    "\n",
    "test_dataset = tf.keras.preprocessing.image_dataset_from_directory(\n",
    "    testing_data,\n",
    "    image_size=(256, 256),\n",
    "    batch_size=64,\n",
    ")\n",
    "\n",
    "# Data augmentation\n",
    "datagen = ImageDataGenerator(\n",
    "      rescale=1./255,\n",
    "    shear_range=0.2,\n",
    "    zoom_range=0.2,\n",
    "    rotation_range=45,\n",
    "    width_shift_range=0.2,\n",
    "    height_shift_range=0.2,\n",
    "    horizontal_flip=True,\n",
    "    vertical_flip=True,\n",
    "    fill_mode='nearest'\n",
    ")\n",
    "\n",
    "train_datagen = datagen\n",
    "test_datagen = ImageDataGenerator(rescale=1./255)\n",
    "\n",
    "train_generator = train_datagen.flow_from_directory(\n",
    "    training_data,\n",
    "    target_size=(256, 256),\n",
    "    batch_size=64,\n",
    "    class_mode='categorical',\n",
    "    subset='training'\n",
    ")\n",
    "\n",
    "validation_generator = train_datagen.flow_from_directory(\n",
    "    training_data,\n",
    "    target_size=(256, 256),\n",
    "    batch_size=64,\n",
    "    class_mode='categorical',\n",
    "    subset='validation'\n",
    ")\n",
    "\n",
    "test_generator = test_datagen.flow_from_directory(\n",
    "    testing_data,\n",
    "    target_size=(256, 256),\n",
    "    batch_size=64,\n",
    "    class_mode='categorical'\n",
    ")"
   ]
  },
  {
   "cell_type": "markdown",
   "metadata": {},
   "source": [
    "Show graph"
   ]
  },
  {
   "cell_type": "code",
   "execution_count": null,
   "metadata": {},
   "outputs": [],
   "source": [
    "\n",
    "# Code for plotting\n",
    "# def show(images, labels):\n",
    "#     plt.figure(figsize=(10, 10))\n",
    "#     for i in range(16):\n",
    "#         plt.subplot(4, 4, i + 1)\n",
    "#         plt.xticks([])\n",
    "#         plt.yticks([])\n",
    "#         plt.grid(False)\n",
    "#         plt.imshow(images[i].numpy().astype(\"uint8\"))\n",
    "#         plt.xlabel(class_names[labels[i]])\n",
    "#     plt.show()\n",
    "\n",
    "# show(train_images, train_labels)"
   ]
  },
  {
   "cell_type": "markdown",
   "metadata": {},
   "source": [
    "Model"
   ]
  },
  {
   "cell_type": "code",
   "execution_count": 12,
   "metadata": {},
   "outputs": [
    {
     "name": "stdout",
     "output_type": "stream",
     "text": [
      "Model: \"sequential_4\"\n",
      "_________________________________________________________________\n",
      " Layer (type)                Output Shape              Param #   \n",
      "=================================================================\n",
      " conv2d_16 (Conv2D)          (None, 256, 256, 16)      448       \n",
      "                                                                 \n",
      " max_pooling2d_16 (MaxPoolin  (None, 128, 128, 16)     0         \n",
      " g2D)                                                            \n",
      "                                                                 \n",
      " conv2d_17 (Conv2D)          (None, 128, 128, 32)      4640      \n",
      "                                                                 \n",
      " max_pooling2d_17 (MaxPoolin  (None, 64, 64, 32)       0         \n",
      " g2D)                                                            \n",
      "                                                                 \n",
      " conv2d_18 (Conv2D)          (None, 64, 64, 64)        18496     \n",
      "                                                                 \n",
      " max_pooling2d_18 (MaxPoolin  (None, 32, 32, 64)       0         \n",
      " g2D)                                                            \n",
      "                                                                 \n",
      " conv2d_19 (Conv2D)          (None, 32, 32, 64)        36928     \n",
      "                                                                 \n",
      " max_pooling2d_19 (MaxPoolin  (None, 16, 16, 64)       0         \n",
      " g2D)                                                            \n",
      "                                                                 \n",
      " flatten_4 (Flatten)         (None, 16384)             0         \n",
      "                                                                 \n",
      " dense_8 (Dense)             (None, 256)               4194560   \n",
      "                                                                 \n",
      " dropout_4 (Dropout)         (None, 256)               0         \n",
      "                                                                 \n",
      " dense_9 (Dense)             (None, 4)                 1028      \n",
      "                                                                 \n",
      "=================================================================\n",
      "Total params: 4,256,100\n",
      "Trainable params: 4,256,100\n",
      "Non-trainable params: 0\n",
      "_________________________________________________________________\n",
      "None\n"
     ]
    }
   ],
   "source": [
    "model = models.Sequential()\n",
    "\n",
    "model.add(layers.Conv2D(16, (3, 3), activation='relu', padding='same', input_shape=(256, 256, 3)))\n",
    "model.add(layers.MaxPooling2D((2, 2)))\n",
    "\n",
    "model.add(layers.Conv2D(32, (3, 3), activation='relu', padding='same'))\n",
    "model.add(layers.MaxPooling2D((2, 2)))\n",
    "\n",
    "model.add(layers.Conv2D(64, (3, 3), activation='relu', padding='same'))\n",
    "model.add(layers.MaxPooling2D((2, 2)))\n",
    "\n",
    "model.add(layers.Conv2D(64, (3, 3), activation='relu', padding='same'))\n",
    "model.add(layers.MaxPooling2D((2, 2)))\n",
    "\n",
    "model.add(layers.Flatten())\n",
    "model.add(layers.Dense(256, activation='relu'))\n",
    "model.add(layers.Dropout(0.5))\n",
    "\n",
    "model.add(layers.Dense(4, activation='softmax'))\n",
    "print(model.summary())\n",
    "\n",
    "# Use categorical crossentropy loss\n",
    "loss = losses.CategoricalCrossentropy(from_logits=True)\n",
    "metrics = ['accuracy']\n",
    "\n",
    "model.compile(optimizer='adam', loss=loss, metrics=metrics)\n",
    "\n",
    "batch_size = 64\n",
    "epochs = 40"
   ]
  },
  {
   "cell_type": "markdown",
   "metadata": {},
   "source": [
    "Fit"
   ]
  },
  {
   "cell_type": "code",
   "execution_count": 13,
   "metadata": {},
   "outputs": [
    {
     "name": "stdout",
     "output_type": "stream",
     "text": [
      "Epoch 1/40\n",
      "72/72 [==============================] - 55s 763ms/step - loss: 1.0783 - accuracy: 0.4929 - val_loss: 1.0804 - val_accuracy: 0.6074\n",
      "Epoch 2/40\n",
      "72/72 [==============================] - 54s 754ms/step - loss: 0.8157 - accuracy: 0.6443 - val_loss: 0.9816 - val_accuracy: 0.6897\n",
      "Epoch 3/40\n",
      "72/72 [==============================] - 54s 754ms/step - loss: 0.7432 - accuracy: 0.6734 - val_loss: 0.9546 - val_accuracy: 0.6266\n",
      "Epoch 4/40\n",
      "72/72 [==============================] - 56s 780ms/step - loss: 0.7156 - accuracy: 0.6963 - val_loss: 0.8995 - val_accuracy: 0.6985\n",
      "Epoch 5/40\n",
      "72/72 [==============================] - 55s 769ms/step - loss: 0.6459 - accuracy: 0.7379 - val_loss: 0.8277 - val_accuracy: 0.6994\n",
      "Epoch 6/40\n",
      "72/72 [==============================] - 56s 774ms/step - loss: 0.6223 - accuracy: 0.7493 - val_loss: 0.8654 - val_accuracy: 0.6897\n",
      "Epoch 7/40\n",
      "72/72 [==============================] - 56s 772ms/step - loss: 0.5713 - accuracy: 0.7674 - val_loss: 0.7692 - val_accuracy: 0.7266\n",
      "Epoch 8/40\n",
      "72/72 [==============================] - 55s 761ms/step - loss: 0.5257 - accuracy: 0.7887 - val_loss: 0.7146 - val_accuracy: 0.7353\n",
      "Epoch 9/40\n",
      "72/72 [==============================] - 55s 758ms/step - loss: 0.5311 - accuracy: 0.7880 - val_loss: 0.7819 - val_accuracy: 0.7160\n",
      "Epoch 10/40\n",
      "72/72 [==============================] - 55s 757ms/step - loss: 0.5034 - accuracy: 0.8042 - val_loss: 0.7301 - val_accuracy: 0.7502\n",
      "Epoch 11/40\n",
      "72/72 [==============================] - 55s 763ms/step - loss: 0.4510 - accuracy: 0.8217 - val_loss: 0.7877 - val_accuracy: 0.7266\n",
      "Epoch 12/40\n",
      "72/72 [==============================] - 55s 766ms/step - loss: 0.4814 - accuracy: 0.8173 - val_loss: 0.7509 - val_accuracy: 0.7082\n",
      "Epoch 13/40\n",
      "72/72 [==============================] - 55s 762ms/step - loss: 0.4449 - accuracy: 0.8300 - val_loss: 0.6564 - val_accuracy: 0.7642\n",
      "Epoch 14/40\n",
      "72/72 [==============================] - 55s 760ms/step - loss: 0.4313 - accuracy: 0.8390 - val_loss: 0.6430 - val_accuracy: 0.7774\n",
      "Epoch 15/40\n",
      "72/72 [==============================] - 55s 760ms/step - loss: 0.4145 - accuracy: 0.8410 - val_loss: 0.6992 - val_accuracy: 0.7476\n",
      "Epoch 16/40\n",
      "72/72 [==============================] - 55s 758ms/step - loss: 0.4288 - accuracy: 0.8401 - val_loss: 0.6903 - val_accuracy: 0.7485\n",
      "Epoch 17/40\n",
      "72/72 [==============================] - 54s 753ms/step - loss: 0.3796 - accuracy: 0.8519 - val_loss: 0.7211 - val_accuracy: 0.7485\n",
      "Epoch 18/40\n",
      "72/72 [==============================] - 54s 751ms/step - loss: 0.3874 - accuracy: 0.8565 - val_loss: 0.6531 - val_accuracy: 0.7537\n",
      "Epoch 19/40\n",
      "72/72 [==============================] - 56s 772ms/step - loss: 0.3583 - accuracy: 0.8624 - val_loss: 0.6881 - val_accuracy: 0.7283\n",
      "Epoch 20/40\n",
      "72/72 [==============================] - 54s 750ms/step - loss: 0.3540 - accuracy: 0.8685 - val_loss: 0.6625 - val_accuracy: 0.7730\n",
      "Epoch 21/40\n",
      "72/72 [==============================] - 55s 757ms/step - loss: 0.3585 - accuracy: 0.8679 - val_loss: 0.6696 - val_accuracy: 0.7607\n",
      "Epoch 22/40\n",
      "72/72 [==============================] - 55s 756ms/step - loss: 0.3589 - accuracy: 0.8635 - val_loss: 0.6504 - val_accuracy: 0.7897\n",
      "Epoch 23/40\n",
      "72/72 [==============================] - 54s 754ms/step - loss: 0.3447 - accuracy: 0.8698 - val_loss: 0.6147 - val_accuracy: 0.7862\n",
      "Epoch 24/40\n",
      "72/72 [==============================] - 55s 764ms/step - loss: 0.3258 - accuracy: 0.8806 - val_loss: 0.5857 - val_accuracy: 0.7826\n",
      "Epoch 25/40\n",
      "72/72 [==============================] - 55s 759ms/step - loss: 0.3337 - accuracy: 0.8742 - val_loss: 0.6712 - val_accuracy: 0.7984\n",
      "Epoch 26/40\n",
      "72/72 [==============================] - 55s 760ms/step - loss: 0.3017 - accuracy: 0.8897 - val_loss: 0.6615 - val_accuracy: 0.7730\n",
      "Epoch 27/40\n",
      "72/72 [==============================] - 54s 751ms/step - loss: 0.3184 - accuracy: 0.8884 - val_loss: 0.6340 - val_accuracy: 0.7704\n",
      "Epoch 28/40\n",
      "72/72 [==============================] - 55s 756ms/step - loss: 0.3159 - accuracy: 0.8830 - val_loss: 0.6595 - val_accuracy: 0.7756\n",
      "Epoch 29/40\n",
      "72/72 [==============================] - 54s 755ms/step - loss: 0.2955 - accuracy: 0.8921 - val_loss: 0.6137 - val_accuracy: 0.7949\n",
      "Epoch 30/40\n",
      "72/72 [==============================] - 55s 760ms/step - loss: 0.2827 - accuracy: 0.8963 - val_loss: 0.5374 - val_accuracy: 0.8124\n",
      "Epoch 31/40\n",
      "72/72 [==============================] - 54s 754ms/step - loss: 0.2668 - accuracy: 0.8991 - val_loss: 0.5837 - val_accuracy: 0.8046\n",
      "Epoch 32/40\n",
      "72/72 [==============================] - 55s 758ms/step - loss: 0.2918 - accuracy: 0.8895 - val_loss: 0.5661 - val_accuracy: 0.8151\n",
      "Epoch 33/40\n",
      "72/72 [==============================] - 55s 765ms/step - loss: 0.2705 - accuracy: 0.9005 - val_loss: 0.5902 - val_accuracy: 0.7993\n",
      "Epoch 34/40\n",
      "72/72 [==============================] - 55s 758ms/step - loss: 0.2454 - accuracy: 0.9099 - val_loss: 0.5534 - val_accuracy: 0.8309\n",
      "Epoch 35/40\n",
      "72/72 [==============================] - 55s 766ms/step - loss: 0.2543 - accuracy: 0.9088 - val_loss: 0.6986 - val_accuracy: 0.7905\n",
      "Epoch 36/40\n",
      "72/72 [==============================] - 55s 766ms/step - loss: 0.2563 - accuracy: 0.9064 - val_loss: 0.6476 - val_accuracy: 0.7949\n",
      "Epoch 37/40\n",
      "72/72 [==============================] - 56s 777ms/step - loss: 0.2456 - accuracy: 0.9088 - val_loss: 0.6867 - val_accuracy: 0.7686\n",
      "Epoch 38/40\n",
      "72/72 [==============================] - 55s 759ms/step - loss: 0.2690 - accuracy: 0.8970 - val_loss: 0.6394 - val_accuracy: 0.8063\n",
      "Epoch 39/40\n",
      "72/72 [==============================] - 56s 769ms/step - loss: 0.2581 - accuracy: 0.9042 - val_loss: 0.5644 - val_accuracy: 0.8186\n",
      "Epoch 40/40\n",
      "72/72 [==============================] - 55s 768ms/step - loss: 0.2430 - accuracy: 0.9123 - val_loss: 0.4995 - val_accuracy: 0.8256\n"
     ]
    },
    {
     "data": {
      "text/plain": [
       "<keras.callbacks.History at 0x134317dc700>"
      ]
     },
     "execution_count": 13,
     "metadata": {},
     "output_type": "execute_result"
    }
   ],
   "source": [
    "# Convert labels to categorical\n",
    "# train_labels = tf.keras.utils.to_categorical(train_labels, num_classes=4)\n",
    "# test_labels = tf.keras.utils.to_categorical(test_labels, num_classes=4)\n",
    "\n",
    "# model.fit(train_generator, train_labels, epochs=epochs, batch_size=batch_size, verbose=2)\n",
    "model.fit(\n",
    "    train_generator,\n",
    "    epochs=epochs,\n",
    "    validation_data=validation_generator,\n",
    ")\n"
   ]
  },
  {
   "cell_type": "markdown",
   "metadata": {},
   "source": [
    "Evaulation"
   ]
  },
  {
   "cell_type": "code",
   "execution_count": 14,
   "metadata": {},
   "outputs": [
    {
     "name": "stdout",
     "output_type": "stream",
     "text": [
      "21/21 [==============================] - 10s 449ms/step - loss: 0.3791 - accuracy: 0.8566\n",
      "Test accuracy: 0.86\n",
      "Test loss: 0.38\n"
     ]
    }
   ],
   "source": [
    "# model.evaluate(test_generator, test_labels, batch_size=batch_size, verbose=2)\n",
    "test_loss, test_accuracy = model.evaluate(test_generator)\n",
    "print(f'Test accuracy: {test_accuracy:.2f}')\n",
    "print(f'Test loss: {test_loss:.2f}')"
   ]
  }
 ],
 "metadata": {
  "kernelspec": {
   "display_name": "tf310",
   "language": "python",
   "name": "python3"
  },
  "language_info": {
   "codemirror_mode": {
    "name": "ipython",
    "version": 3
   },
   "file_extension": ".py",
   "mimetype": "text/x-python",
   "name": "python",
   "nbconvert_exporter": "python",
   "pygments_lexer": "ipython3",
   "version": "3.10.14"
  }
 },
 "nbformat": 4,
 "nbformat_minor": 2
}
